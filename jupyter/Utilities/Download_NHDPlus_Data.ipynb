{
 "cells": [
  {
   "cell_type": "code",
   "execution_count": null,
   "metadata": {},
   "outputs": [
    {
     "data": {
      "application/vnd.jupyter.widget-view+json": {
       "model_id": "2e72cd06d83a47598066da5154fb74d8"
      }
     },
     "metadata": {},
     "output_type": "display_data"
    }
   ],
   "source": [
    "import wget;\n",
    "from ipywidgets import IntProgress;\n",
    "from IPython.display import display;\n",
    "\n",
    "#nhdplus              = \"waterspg_nhdplus_20181031.dmp\";\n",
    "nhdplus              = \"waterspg_nhdplus_prune_20181031.dmp\";\n",
    "#nhdplus_watersheds   = \"waterspg_nhdplus_watersheds_20181031.dmp\";\n",
    "nhdplus_watersheds   = \"waterspg_nhdplus_watersheds_prune_20181031.dmp\";\n",
    "nhdplus_delineation  = \"waterspg_nhdplus_delineation_20181031.dmp\";\n",
    "nhdplus_navigation30 = \"waterspg_nhdplus_navigation30_20181031.dmp\";\n",
    "nhdplus_indexing     = \"waterspg_nhdplus_indexing_20181031.dmp\";\n",
    "nhdplus_toponet      = \"waterspg_nhdplus_toponet_20181031.dmp\";\n",
    "waterspg_support     = \"waterspg_waterspg_support_20181031.dmp\";\n",
    "waterspg             = \"waterspg_waterspg_20181031.dmp\";\n",
    "\n",
    "url = \"https://waterspg.s3.amazonaws.com/\";\n",
    "loading_dock = \"/loading_dock/\";\n",
    "\n",
    "i = IntProgress(min=0,max=8,step=1);\n",
    "display(i);\n",
    "\n",
    "i.description = 'nhdplus.dmp'; \n",
    "wget.download(url + nhdplus,             loading_dock + \"nhdplus.dmp\");\n",
    "i.value += 1;\n",
    "i.description = 'nhdplus_watersheds.dmp';\n",
    "wget.download(url + nhdplus_watersheds,  loading_dock + \"nhdplus_watersheds.dmp\");\n",
    "i.value += 1;\n",
    "i.description = 'delineation.dmp';\n",
    "wget.download(url + nhdplus_delineation, loading_dock + \"nhdplus_delineation.dmp\");\n",
    "i.value += 1;\n",
    "i.description = 'nhdplus_navigation30.dmp';\n",
    "wget.download(url + nhdplus_navigation30,loading_dock + \"nhdplus_navigation30.dmp\");\n",
    "i.value += 1;\n",
    "i.description = 'nhdplus_indexing.dmp';\n",
    "wget.download(url + nhdplus_indexing,    loading_dock + \"nhdplus_indexing.dmp\");\n",
    "i.value += 1;\n",
    "i.description = 'nhdplus_toponet.dmp';\n",
    "wget.download(url + nhdplus_toponet,     loading_dock + \"nhdplus_toponet.dmp\");\n",
    "i.value += 1;\n",
    "i.description = 'waterspg_support.dmp';\n",
    "wget.download(url + waterspg_support,    loading_dock + \"waterspg_support.dmp\");\n",
    "i.value += 1;\n",
    "i.description = 'waterspg.dmp';\n",
    "wget.download(url + waterspg,            loading_dock + \"waterspg.dmp\");\n",
    "i.value += 1;\n",
    "i.bar_style = 'success';\n",
    "i.description = 'download complete';\n"
   ]
  },
  {
   "cell_type": "code",
   "execution_count": null,
   "metadata": {},
   "outputs": [],
   "source": []
  }
 ],
 "metadata": {
  "kernelspec": {
   "display_name": "Python 3",
   "language": "python",
   "name": "python3"
  },
  "language_info": {
   "codemirror_mode": {
    "name": "ipython",
    "version": 3
   },
   "file_extension": ".py",
   "mimetype": "text/x-python",
   "name": "python",
   "nbconvert_exporter": "python",
   "pygments_lexer": "ipython3",
   "version": "3.6.6"
  }
 },
 "nbformat": 4,
 "nbformat_minor": 2
}
