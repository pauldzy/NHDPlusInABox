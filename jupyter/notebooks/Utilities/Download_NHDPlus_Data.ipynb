{
 "cells": [
  {
   "cell_type": "code",
   "execution_count": null,
   "metadata": {},
   "outputs": [
    {
     "data": {
      "application/vnd.jupyter.widget-view+json": {
       "model_id": "6379fc0cd9c348c3bbbf7ed83b4919c8"
      }
     },
     "metadata": {},
     "output_type": "display_data"
    }
   ],
   "source": [
    "import wget,os;\n",
    "from ipywidgets import IntProgress,HTML,VBox;\n",
    "from IPython.display import display;\n",
    "\n",
    "#################################################################\n",
    "# To download the full NHDPlus dataset, swap in the full dataset\n",
    "# over the prune (region 09 only) nhdplus and watersheds dataset\n",
    "#################################################################\n",
    "\n",
    "#nhdplus             = \"waterspg_nhdplus_20190703.dmp\";\n",
    "nhdplus              = \"waterspg_nhdplus_prune_20190703.dmp\";\n",
    "#nhdplus_watersheds  = \"waterspg_nhdplus_watersheds_20181231.dmp\";\n",
    "nhdplus_watersheds   = \"waterspg_nhdplus_watersheds_prune_20181231.dmp\";\n",
    "\n",
    "#################################################################\n",
    "dz_lrs               = \"waterspg_dz_lrs_20190207.dmp\";\n",
    "nhdplus_delineation  = \"waterspg_nhdplus_delineation_20190703.dmp\";\n",
    "nhdplus_navigation30 = \"waterspg_nhdplus_navigation30_20190825.dmp\";\n",
    "nhdplus_indexing     = \"waterspg_nhdplus_indexing_20190326.dmp\";\n",
    "nhdplus_toponet      = \"waterspg_nhdplus_toponet_20190703.dmp\";\n",
    "waterspg_support     = \"waterspg_waterspg_support_20190703.dmp\";\n",
    "waterspg             = \"waterspg_waterspg_20190825.dmp\";\n",
    "##################################################################\n",
    "\n",
    "i = IntProgress(min=0,max=900,value=100);\n",
    "label = HTML();\n",
    "box = VBox(children=[label,i]);\n",
    "display(box);\n",
    "\n",
    "def dl(source,target):\n",
    "   url = \"https://waterspg.s3.amazonaws.com/\";\n",
    "   loading_dock = \"/loading_dock/\";\n",
    "    \n",
    "   if os.path.exists(loading_dock + target):\n",
    "      os.remove(loading_dock + target)\n",
    "        \n",
    "   wget.download(url + source,loading_dock + target);\n",
    "\n",
    "label.value = 'downloading nhdplus dump...'; \n",
    "dl(nhdplus,\"nhdplus.dmp\");\n",
    "i.value += 100;\n",
    "\n",
    "label.value = 'downloading nhdplus_watersheds dump...';\n",
    "dl(nhdplus_watersheds,\"nhdplus_watersheds.dmp\");\n",
    "i.value += 100;\n",
    "\n",
    "label.value = 'downloading dz_lrs dump...'; \n",
    "dl(dz_lrs,\"dz_lrs.dmp\");\n",
    "i.value += 100;\n",
    "\n",
    "label.value = 'downloading nhdplus_delineation dump...';\n",
    "dl(nhdplus_delineation,\"nhdplus_delineation.dmp\");\n",
    "i.value += 100;\n",
    "\n",
    "label.value = 'downloading nhdplus_navigation30 dump...';\n",
    "dl(nhdplus_navigation30,\"nhdplus_navigation30.dmp\");\n",
    "i.value += 100;\n",
    "\n",
    "label.value = 'downloading nhdplus_indexing dump...';\n",
    "dl(nhdplus_indexing,\"nhdplus_indexing.dmp\");\n",
    "i.value += 100;\n",
    "\n",
    "label.value = 'downloading nhdplus_toponet dump...';\n",
    "dl(nhdplus_toponet,\"nhdplus_toponet.dmp\");\n",
    "i.value += 100;\n",
    "\n",
    "label.value = 'downloading waterspg_support dump...';\n",
    "dl(waterspg_support,\"waterspg_support.dmp\");\n",
    "i.value += 100;\n",
    "\n",
    "label.value = 'downloading waterspg dump...';\n",
    "dl(waterspg,\"waterspg.dmp\");\n",
    "i.value += 100;\n",
    "\n",
    "i.bar_style = 'success';\n",
    "label.value = 'All downloads complete';\n"
   ]
  },
  {
   "cell_type": "code",
   "execution_count": null,
   "metadata": {},
   "outputs": [],
   "source": []
  }
 ],
 "metadata": {
  "kernelspec": {
   "display_name": "Python 3",
   "language": "python",
   "name": "python3"
  },
  "language_info": {
   "codemirror_mode": {
    "name": "ipython",
    "version": 3
   },
   "file_extension": ".py",
   "mimetype": "text/x-python",
   "name": "python",
   "nbconvert_exporter": "python",
   "pygments_lexer": "ipython3",
   "version": "3.6.6"
  }
 },
 "nbformat": 4,
 "nbformat_minor": 2
}
